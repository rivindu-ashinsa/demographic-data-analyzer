{
 "cells": [
  {
   "cell_type": "markdown",
   "id": "195b8456-e7c0-4ba5-9adb-4c789af650b3",
   "metadata": {},
   "source": [
    "# Demographic Data analyser"
   ]
  },
  {
   "cell_type": "markdown",
   "id": "9588efff-e2b1-4d7b-9ab8-e847519e7a90",
   "metadata": {},
   "source": [
    "### Import the libraries "
   ]
  },
  {
   "cell_type": "code",
   "execution_count": 1,
   "id": "a2118b62-b19d-4b33-9cbf-c120df47e586",
   "metadata": {},
   "outputs": [],
   "source": [
    "import numpy as np\n",
    "import pandas as pd\n"
   ]
  },
  {
   "cell_type": "code",
   "execution_count": 2,
   "id": "fa0007ac-10f1-4b21-9f29-4c307d142f6b",
   "metadata": {},
   "outputs": [],
   "source": [
    "column_names = ['age', 'workclass', 'fnlwgt', 'education', 'education-num', 'marital-status', \n",
    "                'occupation', 'relationship', 'race', 'sex', 'capital-gain', 'capital-loss', \n",
    "                'hours-per-week', 'native-country', 'income']\n",
    "\n",
    "csv_url = \"https://archive.ics.uci.edu/ml/machine-learning-databases/adult/adult.data\"\n",
    "    \n",
    "df = pd.read_csv(csv_url,sep=',')\n",
    "df.columns = column_names"
   ]
  },
  {
   "cell_type": "markdown",
   "id": "6787b29d-65f7-4fe3-9206-d9f3ec9cfd80",
   "metadata": {},
   "source": [
    "### Number of people of each race that are represented in this dataset"
   ]
  },
  {
   "cell_type": "code",
   "execution_count": 4,
   "id": "615199b3-fa40-42b2-83dc-2f1638176671",
   "metadata": {},
   "outputs": [
    {
     "data": {
      "text/plain": [
       "race\n",
       "White                 27815\n",
       "Black                  3124\n",
       "Asian-Pac-Islander     1039\n",
       "Amer-Indian-Eskimo      311\n",
       "Other                   271\n",
       "Name: count, dtype: int64"
      ]
     },
     "execution_count": 4,
     "metadata": {},
     "output_type": "execute_result"
    }
   ],
   "source": [
    "def count_races():\n",
    "    df['race'] = df['race'].str.strip()\n",
    "    races = pd.Series(df['race'].value_counts())\n",
    "    return races\n",
    "\n",
    "count_races()"
   ]
  },
  {
   "cell_type": "markdown",
   "id": "1a2873c6-fedc-47de-972d-459fc95280c2",
   "metadata": {},
   "source": [
    "### Average age of men"
   ]
  },
  {
   "cell_type": "code",
   "execution_count": 5,
   "id": "4e290b3a-05ec-44ab-96af-fde2e82750ee",
   "metadata": {},
   "outputs": [
    {
     "data": {
      "text/plain": [
       "39.4"
      ]
     },
     "execution_count": 5,
     "metadata": {},
     "output_type": "execute_result"
    }
   ],
   "source": [
    "def average_age_of_men():\n",
    "    df['sex'] = df['sex'].str.strip()\n",
    "    avg_age_men = df[df['sex'] == 'Male']['age'].mean()\n",
    "    return round(avg_age_men,1)\n",
    "\n",
    "average_age_of_men()"
   ]
  },
  {
   "cell_type": "markdown",
   "id": "fcd6299a-df3c-4d5b-a7f7-16658a8910e6",
   "metadata": {},
   "source": [
    "### Percentage of people having a Bachelor's degree"
   ]
  },
  {
   "cell_type": "code",
   "execution_count": 6,
   "id": "e7cfa3f1-1b49-4773-b42c-ef331a21416b",
   "metadata": {},
   "outputs": [
    {
     "data": {
      "text/plain": [
       "16.4"
      ]
     },
     "execution_count": 6,
     "metadata": {},
     "output_type": "execute_result"
    }
   ],
   "source": [
    "def percentage_of_Bachelors():\n",
    "    df['education'] = df['education'].str.strip()\n",
    "    df['income'] = df['income'].str.strip()\n",
    "    percentage = df[df['education'] == \"Bachelors\"]['education'].size / df['education'].size * 100\n",
    "    return round(percentage,1)\n",
    "\n",
    "percentage_of_Bachelors()"
   ]
  },
  {
   "cell_type": "markdown",
   "id": "45b13650-0b43-42e6-96a1-405b627e05b0",
   "metadata": {},
   "source": [
    "### Percentage of educated people who earn more than 50K "
   ]
  },
  {
   "cell_type": "code",
   "execution_count": 7,
   "id": "65805bc4-43af-48b5-966b-ba65062bd8de",
   "metadata": {},
   "outputs": [
    {
     "data": {
      "text/plain": [
       "46.5"
      ]
     },
     "execution_count": 7,
     "metadata": {},
     "output_type": "execute_result"
    }
   ],
   "source": [
    "def advanced_educted_earning_more_than_50k():\n",
    "    educational_levels = ['Bachelors','Masters','Doctorate']\n",
    "    advanced_educated = df[df['education'].isin(educational_levels)]\n",
    "    advanced_educated_more_than_50K = advanced_educated[advanced_educated['income'] == '>50K']['income']\n",
    "    percentage_of_advanced_educated_earning_more_than_50K = advanced_educated_more_than_50K.size / advanced_educated['education'].size * 100\n",
    "    return round(percentage_of_advanced_educated_earning_more_than_50K,1)\n",
    "\n",
    "advanced_educted_earning_more_than_50k()"
   ]
  },
  {
   "cell_type": "markdown",
   "id": "963fe65b-fa4d-4218-96b4-bcd0ae2fb378",
   "metadata": {},
   "source": [
    "### Non-educated people who earn more than 50K"
   ]
  },
  {
   "cell_type": "code",
   "execution_count": 8,
   "id": "076ece7a-90c9-4b62-8f23-3c3a77693330",
   "metadata": {},
   "outputs": [
    {
     "data": {
      "text/plain": [
       "17.4"
      ]
     },
     "execution_count": 8,
     "metadata": {},
     "output_type": "execute_result"
    }
   ],
   "source": [
    "def non_advanced_educted_earning_more_than_50k():\n",
    "    educational_levels = ['Bachelors','Masters','Doctorate']\n",
    "    non_advanced_educated = df[~df['education'].isin(educational_levels)]\n",
    "    non_advanced_educated_more_than_50K = non_advanced_educated[non_advanced_educated['income'] == '>50K']['income']\n",
    "    percentage_of_non_advanced_educated_earning_more_than_50K = non_advanced_educated_more_than_50K.size / non_advanced_educated['education'].size * 100\n",
    "    return round(percentage_of_non_advanced_educated_earning_more_than_50K,1)\n",
    "\n",
    "non_advanced_educted_earning_more_than_50k()"
   ]
  },
  {
   "cell_type": "markdown",
   "id": "e85881e7-a410-4f8a-b747-88d2f30cecac",
   "metadata": {},
   "source": [
    "### Minimum number of hours a person works per week"
   ]
  },
  {
   "cell_type": "code",
   "execution_count": 9,
   "id": "9bcf8fcc-9ea9-4fe9-83a1-e8199c21fe10",
   "metadata": {},
   "outputs": [
    {
     "data": {
      "text/plain": [
       "1"
      ]
     },
     "execution_count": 9,
     "metadata": {},
     "output_type": "execute_result"
    }
   ],
   "source": [
    "def minimum_no_of_hour_per_week():\n",
    "    return min(df['hours-per-week'])\n",
    "\n",
    "minimum_no_of_hour_per_week()"
   ]
  },
  {
   "cell_type": "markdown",
   "id": "5a675d49-40f5-41df-808a-a8b4a9c0e5b4",
   "metadata": {},
   "source": [
    "### Minimum number of hours a person works per week who earn more than 50K"
   ]
  },
  {
   "cell_type": "code",
   "execution_count": 10,
   "id": "6640d1e5-2c97-47d6-9998-ad368b20ae23",
   "metadata": {},
   "outputs": [
    {
     "data": {
      "text/plain": [
       "10.0"
      ]
     },
     "execution_count": 10,
     "metadata": {},
     "output_type": "execute_result"
    }
   ],
   "source": [
    "def minimum_no_of_hour_per_week_earn_more_than_50k():\n",
    "    minimum_no_of_work_per_week = df[df['hours-per-week'] < 2]\n",
    "    minimum_no_of_work_per_week_earn_more_than_50k = minimum_no_of_work_per_week[minimum_no_of_work_per_week['income']== '>50K']['income']\n",
    "    people_who_work_minimum_no_of_hours_with_income_50k = minimum_no_of_work_per_week_earn_more_than_50k.size /minimum_no_of_work_per_week['hours-per-week'].size * 100\n",
    "    return people_who_work_minimum_no_of_hours_with_income_50k\n",
    "\n",
    "minimum_no_of_hour_per_week_earn_more_than_50k()"
   ]
  },
  {
   "cell_type": "markdown",
   "id": "b9fad95b-ad39-4d63-88c4-d8c0b3c31794",
   "metadata": {},
   "source": [
    "### Country with the highest percentage of people that earn >50K and that percentage"
   ]
  },
  {
   "cell_type": "code",
   "execution_count": 11,
   "id": "1f2ffbbd-fd53-4afe-9a0d-f65a08206992",
   "metadata": {},
   "outputs": [
    {
     "data": {
      "text/plain": [
       "('United-States', 91.5)"
      ]
     },
     "execution_count": 11,
     "metadata": {},
     "output_type": "execute_result"
    }
   ],
   "source": [
    "def highest_percent_of_50k_earners():\n",
    "    df['native-country'] = df['native-country'].str.strip()\n",
    "    df['occupation'] = df['occupation'].str.strip()\n",
    "    people_earn_more_than_50K = df[df['income'] == \">50K\"]\n",
    "    max_50k_earners = max(pd.Series(people_earn_more_than_50K['native-country']).value_counts())\n",
    "    country = df.loc[max_50k_earners]['native-country']\n",
    "    percentage = max_50k_earners / people_earn_more_than_50K['native-country'].size * 100\n",
    "    return country,round(percentage,1)\n",
    "\n",
    "highest_percent_of_50k_earners()"
   ]
  },
  {
   "cell_type": "markdown",
   "id": "f9ccc7e1-964a-4b12-8cfe-8cfa9e1d9f39",
   "metadata": {},
   "source": [
    "### Most popular Occupation in india which earns more than 50K"
   ]
  },
  {
   "cell_type": "code",
   "execution_count": 12,
   "id": "c58a696a-d115-4006-9f3b-ff4d382817f8",
   "metadata": {},
   "outputs": [
    {
     "data": {
      "text/plain": [
       "'Craft-repair'"
      ]
     },
     "execution_count": 12,
     "metadata": {},
     "output_type": "execute_result"
    }
   ],
   "source": [
    "def most_popular_occupation_in_india():\n",
    "    people_earn_more_than_50K = df[df['income'] == \">50K\"]\n",
    "    people_earn_more_than_50K_india = people_earn_more_than_50K[people_earn_more_than_50K['native-country']== \"India\"]\n",
    "    most_popular_occupation = max(pd.Series(people_earn_more_than_50K_india['occupation']).value_counts())\n",
    "    return df.loc[most_popular_occupation]['occupation']\n",
    "\n",
    "most_popular_occupation_in_india()\n"
   ]
  },
  {
   "cell_type": "code",
   "execution_count": null,
   "id": "092bb3cb-3ff3-487b-b865-dfbc56e73907",
   "metadata": {},
   "outputs": [],
   "source": []
  }
 ],
 "metadata": {
  "kernelspec": {
   "display_name": "Python 3 (ipykernel)",
   "language": "python",
   "name": "python3"
  },
  "language_info": {
   "codemirror_mode": {
    "name": "ipython",
    "version": 3
   },
   "file_extension": ".py",
   "mimetype": "text/x-python",
   "name": "python",
   "nbconvert_exporter": "python",
   "pygments_lexer": "ipython3",
   "version": "3.12.2"
  }
 },
 "nbformat": 4,
 "nbformat_minor": 5
}
